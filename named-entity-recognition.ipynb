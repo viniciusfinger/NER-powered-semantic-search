{
 "cells": [
  {
   "cell_type": "markdown",
   "metadata": {},
   "source": [
    "# Named Entity Recognition"
   ]
  },
  {
   "cell_type": "code",
   "execution_count": 8,
   "metadata": {},
   "outputs": [
    {
     "name": "stderr",
     "output_type": "stream",
     "text": [
      "Some weights of the model checkpoint at dslim/bert-base-NER were not used when initializing BertForTokenClassification: ['bert.pooler.dense.bias', 'bert.pooler.dense.weight']\n",
      "- This IS expected if you are initializing BertForTokenClassification from the checkpoint of a model trained on another task or with another architecture (e.g. initializing a BertForSequenceClassification model from a BertForPreTraining model).\n",
      "- This IS NOT expected if you are initializing BertForTokenClassification from the checkpoint of a model that you expect to be exactly identical (initializing a BertForSequenceClassification model from a BertForSequenceClassification model).\n"
     ]
    }
   ],
   "source": [
    "from transformers import AutoTokenizer, AutoModelForTokenClassification\n",
    "import torch\n",
    "\n",
    "\n",
    "# Setup model, tokenizer and device\n",
    "\n",
    "model_id = \"dslim/bert-base-NER\"\n",
    "\n",
    "tokenizer = AutoTokenizer.from_pretrained(model_id)\n",
    "\n",
    "ner_model = AutoModelForTokenClassification.from_pretrained(model_id)\n",
    "\n",
    "device = torch.cuda.current_device() if torch.cuda.is_available() else \"cpu\"\n"
   ]
  },
  {
   "cell_type": "code",
   "execution_count": 9,
   "metadata": {},
   "outputs": [
    {
     "name": "stderr",
     "output_type": "stream",
     "text": [
      "Device set to use cpu\n"
     ]
    }
   ],
   "source": [
    "from transformers import pipeline\n",
    "\n",
    "nlp = pipeline(\n",
    "    \"ner\", \n",
    "    model=ner_model, \n",
    "    tokenizer=tokenizer, \n",
    "    device=device, \n",
    "    aggregation_strategy=\"max\"\n",
    ")"
   ]
  },
  {
   "cell_type": "code",
   "execution_count": 16,
   "metadata": {},
   "outputs": [
    {
     "data": {
      "text/plain": [
       "[{'entity_group': 'PER',\n",
       "  'score': 0.99606293,\n",
       "  'word': 'Vinicius Finger',\n",
       "  'start': 11,\n",
       "  'end': 26},\n",
       " {'entity_group': 'LOC',\n",
       "  'score': 0.9980527,\n",
       "  'word': 'Canoas',\n",
       "  'start': 41,\n",
       "  'end': 47},\n",
       " {'entity_group': 'LOC',\n",
       "  'score': 0.9995635,\n",
       "  'word': 'Brazil',\n",
       "  'start': 49,\n",
       "  'end': 55}]"
      ]
     },
     "execution_count": 16,
     "metadata": {},
     "output_type": "execute_result"
    }
   ],
   "source": [
    "nlp(\"My name is Vinicius Finger and I live in Canoas, Brazil.\")"
   ]
  },
  {
   "cell_type": "code",
   "execution_count": 18,
   "metadata": {},
   "outputs": [
    {
     "data": {
      "text/plain": [
       "[{'entity_group': 'LOC',\n",
       "  'score': 0.93247026,\n",
       "  'word': 'moro',\n",
       "  'start': 27,\n",
       "  'end': 31},\n",
       " {'entity_group': 'LOC',\n",
       "  'score': 0.9914705,\n",
       "  'word': 'Canoas',\n",
       "  'start': 35,\n",
       "  'end': 41},\n",
       " {'entity_group': 'LOC',\n",
       "  'score': 0.9995523,\n",
       "  'word': 'Brasil',\n",
       "  'start': 43,\n",
       "  'end': 49}]"
      ]
     },
     "execution_count": 18,
     "metadata": {},
     "output_type": "execute_result"
    }
   ],
   "source": [
    "# In portuguese the result is different\n",
    "nlp(\"Eu sou o Vinicius Finger e moro em Canoas, Brasil.\")"
   ]
  },
  {
   "cell_type": "code",
   "execution_count": null,
   "metadata": {},
   "outputs": [],
   "source": []
  }
 ],
 "metadata": {
  "kernelspec": {
   "display_name": "Python 3",
   "language": "python",
   "name": "python3"
  },
  "language_info": {
   "codemirror_mode": {
    "name": "ipython",
    "version": 3
   },
   "file_extension": ".py",
   "mimetype": "text/x-python",
   "name": "python",
   "nbconvert_exporter": "python",
   "pygments_lexer": "ipython3",
   "version": "3.12.6"
  }
 },
 "nbformat": 4,
 "nbformat_minor": 2
}
