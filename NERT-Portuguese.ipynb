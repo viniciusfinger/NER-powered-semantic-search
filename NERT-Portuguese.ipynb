{
 "cells": [
  {
   "cell_type": "markdown",
   "metadata": {},
   "source": [
    "# NER in Porutuguese"
   ]
  },
  {
   "cell_type": "code",
   "execution_count": 8,
   "metadata": {},
   "outputs": [
    {
     "data": {
      "application/vnd.jupyter.widget-view+json": {
       "model_id": "c32dec44124a4a33b863790caae2d3ee",
       "version_major": 2,
       "version_minor": 0
      },
      "text/plain": [
       "tokenizer_config.json:   0%|          | 0.00/1.38k [00:00<?, ?B/s]"
      ]
     },
     "metadata": {},
     "output_type": "display_data"
    },
    {
     "data": {
      "application/vnd.jupyter.widget-view+json": {
       "model_id": "8117d1f9de3b43a2a81ebf06248e812f",
       "version_major": 2,
       "version_minor": 0
      },
      "text/plain": [
       "vocab.txt:   0%|          | 0.00/210k [00:00<?, ?B/s]"
      ]
     },
     "metadata": {},
     "output_type": "display_data"
    },
    {
     "data": {
      "application/vnd.jupyter.widget-view+json": {
       "model_id": "8599ccf84462407785b380540dc26d7a",
       "version_major": 2,
       "version_minor": 0
      },
      "text/plain": [
       "tokenizer.json:   0%|          | 0.00/678k [00:00<?, ?B/s]"
      ]
     },
     "metadata": {},
     "output_type": "display_data"
    },
    {
     "data": {
      "application/vnd.jupyter.widget-view+json": {
       "model_id": "48777a1362ec452285946891d1af30fd",
       "version_major": 2,
       "version_minor": 0
      },
      "text/plain": [
       "special_tokens_map.json:   0%|          | 0.00/695 [00:00<?, ?B/s]"
      ]
     },
     "metadata": {},
     "output_type": "display_data"
    },
    {
     "data": {
      "application/vnd.jupyter.widget-view+json": {
       "model_id": "ef59023af7e84c5db804e1ec5acd88d5",
       "version_major": 2,
       "version_minor": 0
      },
      "text/plain": [
       "config.json:   0%|          | 0.00/2.09k [00:00<?, ?B/s]"
      ]
     },
     "metadata": {},
     "output_type": "display_data"
    },
    {
     "data": {
      "application/vnd.jupyter.widget-view+json": {
       "model_id": "dab2b5f7f95140138549a691b0b46efb",
       "version_major": 2,
       "version_minor": 0
      },
      "text/plain": [
       "model.safetensors:   0%|          | 0.00/433M [00:00<?, ?B/s]"
      ]
     },
     "metadata": {},
     "output_type": "display_data"
    }
   ],
   "source": [
    "from transformers import AutoTokenizer, AutoModelForTokenClassification\n",
    "import torch\n",
    "\n",
    "\n",
    "# Setup model, tokenizer and device\n",
    "\n",
    "model_id = \"rhaymison/ner-portuguese-br-bert-cased\"\n",
    "\n",
    "tokenizer = AutoTokenizer.from_pretrained(model_id)\n",
    "\n",
    "ner_model = AutoModelForTokenClassification.from_pretrained(model_id)\n",
    "\n",
    "device = torch.cuda.current_device() if torch.cuda.is_available() else \"cpu\"\n"
   ]
  },
  {
   "cell_type": "code",
   "execution_count": 9,
   "metadata": {},
   "outputs": [
    {
     "name": "stderr",
     "output_type": "stream",
     "text": [
      "Device set to use cpu\n"
     ]
    }
   ],
   "source": [
    "from transformers import pipeline\n",
    "\n",
    "nlp = pipeline(\n",
    "    \"ner\",\n",
    "    model=ner_model,\n",
    "    device=device,\n",
    "    tokenizer=tokenizer\n",
    ")"
   ]
  },
  {
   "cell_type": "code",
   "execution_count": 10,
   "metadata": {},
   "outputs": [
    {
     "name": "stderr",
     "output_type": "stream",
     "text": [
      "Asking to truncate to max_length but no maximum length is provided and the model has no predefined maximum length. Default to no truncation.\n"
     ]
    },
    {
     "data": {
      "text/plain": [
       "[{'entity': 'B-PER',\n",
       "  'score': 0.9943414,\n",
       "  'index': 7,\n",
       "  'word': 'Vin',\n",
       "  'start': 15,\n",
       "  'end': 18},\n",
       " {'entity': 'B-PER',\n",
       "  'score': 0.99167484,\n",
       "  'index': 8,\n",
       "  'word': '##ici',\n",
       "  'start': 18,\n",
       "  'end': 21},\n",
       " {'entity': 'B-PER',\n",
       "  'score': 0.99174833,\n",
       "  'index': 9,\n",
       "  'word': '##us',\n",
       "  'start': 21,\n",
       "  'end': 23},\n",
       " {'entity': 'I-PER',\n",
       "  'score': 0.99562496,\n",
       "  'index': 10,\n",
       "  'word': 'Fin',\n",
       "  'start': 24,\n",
       "  'end': 27},\n",
       " {'entity': 'I-PER',\n",
       "  'score': 0.99485344,\n",
       "  'index': 11,\n",
       "  'word': '##ger',\n",
       "  'start': 27,\n",
       "  'end': 30},\n",
       " {'entity': 'B-LOC',\n",
       "  'score': 0.995808,\n",
       "  'index': 17,\n",
       "  'word': 'Cano',\n",
       "  'start': 44,\n",
       "  'end': 48},\n",
       " {'entity': 'B-LOC',\n",
       "  'score': 0.99465805,\n",
       "  'index': 18,\n",
       "  'word': '##as',\n",
       "  'start': 48,\n",
       "  'end': 50}]"
      ]
     },
     "execution_count": 10,
     "metadata": {},
     "output_type": "execute_result"
    }
   ],
   "source": [
    "nlp(\"Oi, meu nome é Vinicius Finger e eu moro em Canoas\")"
   ]
  }
 ],
 "metadata": {
  "kernelspec": {
   "display_name": "Python 3",
   "language": "python",
   "name": "python3"
  },
  "language_info": {
   "codemirror_mode": {
    "name": "ipython",
    "version": 3
   },
   "file_extension": ".py",
   "mimetype": "text/x-python",
   "name": "python",
   "nbconvert_exporter": "python",
   "pygments_lexer": "ipython3",
   "version": "3.12.6"
  }
 },
 "nbformat": 4,
 "nbformat_minor": 2
}
