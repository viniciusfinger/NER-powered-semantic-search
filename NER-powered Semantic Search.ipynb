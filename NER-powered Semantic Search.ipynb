{
 "cells": [
  {
   "cell_type": "markdown",
   "metadata": {},
   "source": [
    "# NER-Powered Semantic Search\n",
    "\n",
    "Combine NER technique with semantic search to improve the results"
   ]
  },
  {
   "cell_type": "markdown",
   "metadata": {},
   "source": [
    "### Setup Pinecone"
   ]
  },
  {
   "cell_type": "code",
   "execution_count": 45,
   "metadata": {},
   "outputs": [],
   "source": [
    "from pinecone import Pinecone\n",
    "import os\n",
    "\n",
    "pc = Pinecone(api_key=os.getenv(\"PINECONE_API_KEY\"))\n",
    "\n",
    "pc.delete_index(\"medium-data\")\n",
    "\n",
    "pc.create_index(\"medium-data\", dimension=768, spec={\"serverless\": {\"cloud\": \"aws\", \"region\": \"us-east-1\"}})\n",
    "\n",
    "index = pc.Index(\"medium-data\")"
   ]
  },
  {
   "cell_type": "markdown",
   "metadata": {},
   "source": [
    "### Setup NER"
   ]
  },
  {
   "cell_type": "code",
   "execution_count": 46,
   "metadata": {},
   "outputs": [
    {
     "name": "stderr",
     "output_type": "stream",
     "text": [
      "Some weights of the model checkpoint at dslim/bert-base-NER were not used when initializing BertForTokenClassification: ['bert.pooler.dense.bias', 'bert.pooler.dense.weight']\n",
      "- This IS expected if you are initializing BertForTokenClassification from the checkpoint of a model trained on another task or with another architecture (e.g. initializing a BertForSequenceClassification model from a BertForPreTraining model).\n",
      "- This IS NOT expected if you are initializing BertForTokenClassification from the checkpoint of a model that you expect to be exactly identical (initializing a BertForSequenceClassification model from a BertForSequenceClassification model).\n",
      "Device set to use mps:0\n",
      "Device set to use cpu\n"
     ]
    }
   ],
   "source": [
    "from transformers import AutoTokenizer, AutoModelForTokenClassification, pipeline\n",
    "from sentence_transformers import SentenceTransformer\n",
    "import torch\n",
    "\n",
    "model_id = \"dslim/bert-base-NER\"\n",
    "\n",
    "tokenizer = AutoTokenizer.from_pretrained(model_id)\n",
    "model = AutoModelForTokenClassification.from_pretrained(model_id)\n",
    "\n",
    "ner_pipeline = pipeline(\"ner\", model=model, tokenizer=tokenizer)\n",
    "\n",
    "device = \"cuda\" if torch.cuda.is_available() else \"cpu\"\n",
    "\n",
    "nlp = pipeline(\"ner\", model=model, tokenizer=tokenizer, device=device, aggregation_strategy=\"max\")\n",
    "\n",
    "retriever = SentenceTransformer(\"flax-sentence-embeddings/all_datasets_v3_mpnet-base\")"
   ]
  },
  {
   "cell_type": "code",
   "execution_count": 47,
   "metadata": {},
   "outputs": [
    {
     "data": {
      "text/plain": [
       "[{'entity_group': 'PER',\n",
       "  'score': 0.999742,\n",
       "  'word': 'Bill Gates',\n",
       "  'start': 0,\n",
       "  'end': 10},\n",
       " {'entity_group': 'ORG',\n",
       "  'score': 0.9983804,\n",
       "  'word': 'Microsoft',\n",
       "  'start': 49,\n",
       "  'end': 58}]"
      ]
     },
     "execution_count": 47,
     "metadata": {},
     "output_type": "execute_result"
    }
   ],
   "source": [
    "nlp(\"Bill Gates is a software engineer and founder of Microsoft\")"
   ]
  },
  {
   "cell_type": "markdown",
   "metadata": {},
   "source": [
    "### Prepare the Dataframe"
   ]
  },
  {
   "cell_type": "code",
   "execution_count": 48,
   "metadata": {},
   "outputs": [
    {
     "data": {
      "text/html": [
       "<div>\n",
       "<style scoped>\n",
       "    .dataframe tbody tr th:only-of-type {\n",
       "        vertical-align: middle;\n",
       "    }\n",
       "\n",
       "    .dataframe tbody tr th {\n",
       "        vertical-align: top;\n",
       "    }\n",
       "\n",
       "    .dataframe thead th {\n",
       "        text-align: right;\n",
       "    }\n",
       "</style>\n",
       "<table border=\"1\" class=\"dataframe\">\n",
       "  <thead>\n",
       "    <tr style=\"text-align: right;\">\n",
       "      <th></th>\n",
       "      <th>title</th>\n",
       "      <th>text</th>\n",
       "      <th>url</th>\n",
       "      <th>authors</th>\n",
       "      <th>timestamp</th>\n",
       "      <th>tags</th>\n",
       "      <th>text_extended</th>\n",
       "    </tr>\n",
       "  </thead>\n",
       "  <tbody>\n",
       "    <tr>\n",
       "      <th>0</th>\n",
       "      <td>Konsep Perdagangan Adil (Fair Trade)</td>\n",
       "      <td>Sumber:\\n\\nJournal\\n\\nTaylor, Jason E, and Boa...</td>\n",
       "      <td>https://medium.com/hipotesa-indonesia/konsep-p...</td>\n",
       "      <td>['Kim Litelnoni']</td>\n",
       "      <td>2019-06-16 01:17:44.009000+00:00</td>\n",
       "      <td>['Trade', 'Fair Trade', 'International Relatio...</td>\n",
       "      <td>Konsep Perdagangan Adil (Fair Trade) Sumber:\\n...</td>\n",
       "    </tr>\n",
       "    <tr>\n",
       "      <th>1</th>\n",
       "      <td>Palantir Apollo: Powering SaaS where no SaaS h...</td>\n",
       "      <td>At Palantir, our approach to software has unde...</td>\n",
       "      <td>https://blog.palantir.com/palantir-apollo-powe...</td>\n",
       "      <td>[]</td>\n",
       "      <td>2020-10-08 13:30:34.138000+00:00</td>\n",
       "      <td>['Palantirtech', 'Continuous Delivery', 'Palan...</td>\n",
       "      <td>Palantir Apollo: Powering SaaS where no SaaS h...</td>\n",
       "    </tr>\n",
       "    <tr>\n",
       "      <th>2</th>\n",
       "      <td>ZEROBANK announces the most feasible ICO proje...</td>\n",
       "      <td>June 8th, 2018, Singapore — ZeroBank, the inno...</td>\n",
       "      <td>https://medium.com/zerobank-cash/zerobank-the-...</td>\n",
       "      <td>['Zerobank - Your Local Currency']</td>\n",
       "      <td>2018-07-17 03:23:38.526000+00:00</td>\n",
       "      <td>['Sharingeconomy', 'Bitcoin', 'Blockchain', 'Z...</td>\n",
       "      <td>ZEROBANK announces the most feasible ICO proje...</td>\n",
       "    </tr>\n",
       "    <tr>\n",
       "      <th>3</th>\n",
       "      <td>7 Reasons Your Pitch Got Rejected</td>\n",
       "      <td>7 Reasons Your Pitch Got Rejected\\n\\nCommon pi...</td>\n",
       "      <td>https://medium.com/the-lucky-freelancer/7-reas...</td>\n",
       "      <td>['Alicia Wilcox']</td>\n",
       "      <td>2020-09-10 00:51:31.372000+00:00</td>\n",
       "      <td>['Writing', 'Pitch', 'Freelance', 'Freelance W...</td>\n",
       "      <td>7 Reasons Your Pitch Got Rejected 7 Reasons Yo...</td>\n",
       "    </tr>\n",
       "    <tr>\n",
       "      <th>4</th>\n",
       "      <td>Why Money Mindset Is Important For Writers</td>\n",
       "      <td>Writing, Writer, Money Mindset, Abundance\\n\\nI...</td>\n",
       "      <td>https://medium.com/books-and-midlife-adventure...</td>\n",
       "      <td>['Christie Adams - Writer']</td>\n",
       "      <td>2021-03-25 19:57:25.881000+00:00</td>\n",
       "      <td>['Writers Life', 'Writers On Medium', 'Money M...</td>\n",
       "      <td>Why Money Mindset Is Important For Writers Wri...</td>\n",
       "    </tr>\n",
       "  </tbody>\n",
       "</table>\n",
       "</div>"
      ],
      "text/plain": [
       "                                               title  \\\n",
       "0               Konsep Perdagangan Adil (Fair Trade)   \n",
       "1  Palantir Apollo: Powering SaaS where no SaaS h...   \n",
       "2  ZEROBANK announces the most feasible ICO proje...   \n",
       "3                  7 Reasons Your Pitch Got Rejected   \n",
       "4         Why Money Mindset Is Important For Writers   \n",
       "\n",
       "                                                text  \\\n",
       "0  Sumber:\\n\\nJournal\\n\\nTaylor, Jason E, and Boa...   \n",
       "1  At Palantir, our approach to software has unde...   \n",
       "2  June 8th, 2018, Singapore — ZeroBank, the inno...   \n",
       "3  7 Reasons Your Pitch Got Rejected\\n\\nCommon pi...   \n",
       "4  Writing, Writer, Money Mindset, Abundance\\n\\nI...   \n",
       "\n",
       "                                                 url  \\\n",
       "0  https://medium.com/hipotesa-indonesia/konsep-p...   \n",
       "1  https://blog.palantir.com/palantir-apollo-powe...   \n",
       "2  https://medium.com/zerobank-cash/zerobank-the-...   \n",
       "3  https://medium.com/the-lucky-freelancer/7-reas...   \n",
       "4  https://medium.com/books-and-midlife-adventure...   \n",
       "\n",
       "                              authors                         timestamp  \\\n",
       "0                   ['Kim Litelnoni']  2019-06-16 01:17:44.009000+00:00   \n",
       "1                                  []  2020-10-08 13:30:34.138000+00:00   \n",
       "2  ['Zerobank - Your Local Currency']  2018-07-17 03:23:38.526000+00:00   \n",
       "3                   ['Alicia Wilcox']  2020-09-10 00:51:31.372000+00:00   \n",
       "4         ['Christie Adams - Writer']  2021-03-25 19:57:25.881000+00:00   \n",
       "\n",
       "                                                tags  \\\n",
       "0  ['Trade', 'Fair Trade', 'International Relatio...   \n",
       "1  ['Palantirtech', 'Continuous Delivery', 'Palan...   \n",
       "2  ['Sharingeconomy', 'Bitcoin', 'Blockchain', 'Z...   \n",
       "3  ['Writing', 'Pitch', 'Freelance', 'Freelance W...   \n",
       "4  ['Writers Life', 'Writers On Medium', 'Money M...   \n",
       "\n",
       "                                       text_extended  \n",
       "0  Konsep Perdagangan Adil (Fair Trade) Sumber:\\n...  \n",
       "1  Palantir Apollo: Powering SaaS where no SaaS h...  \n",
       "2  ZEROBANK announces the most feasible ICO proje...  \n",
       "3  7 Reasons Your Pitch Got Rejected 7 Reasons Yo...  \n",
       "4  Why Money Mindset Is Important For Writers Wri...  "
      ]
     },
     "execution_count": 48,
     "metadata": {},
     "output_type": "execute_result"
    }
   ],
   "source": [
    "from datasets import load_dataset\n",
    "\n",
    "df = load_dataset(\n",
    "    \"fabiochiu/medium-articles\",\n",
    "    data_files=\"medium_articles.csv\",\n",
    "    split=\"train\"\n",
    ").to_pandas()\n",
    "\n",
    "\n",
    "df = df.dropna().sample(n=100, random_state=42).reset_index(drop=True)\n",
    "\n",
    "df[\"text_extended\"] = df[\"title\"] + \" \" + df[\"text\"].astype(str)\n",
    "\n",
    "df.head()"
   ]
  },
  {
   "cell_type": "markdown",
   "metadata": {},
   "source": [
    "### Batch Processing"
   ]
  },
  {
   "cell_type": "code",
   "execution_count": 49,
   "metadata": {},
   "outputs": [],
   "source": [
    "def extract_entities(doc_list):\n",
    "    entities = []\n",
    "    for doc in doc_list:\n",
    "        entities.append([entity[\"word\"] for entity in nlp(doc)])\n",
    "    return entities\n",
    "\n",
    "batch_size = 10\n",
    "for i in range(0, len(df), batch_size):\n",
    "    i_end = min(i + batch_size, len(df))\n",
    "    \n",
    "    df_batch = df.iloc[i:i_end].copy()\n",
    "    \n",
    "    embeddings = retriever.encode(df_batch[\"text_extended\"].astype(str).tolist()).tolist()\n",
    "    \n",
    "    entities = extract_entities(df_batch[\"text_extended\"].astype(str).tolist())\n",
    "    \n",
    "    df_batch[\"named_entities\"] = [list(set(entity)) for entity in entities]\n",
    "    \n",
    "    df_batch = df_batch.drop('text', axis=1)\n",
    "    \n",
    "    metadata = df_batch.to_dict(orient='records')\n",
    "    \n",
    "    ids = [f\"{idx}\" for idx in range(i, i_end)]\n",
    "    \n",
    "    vectors_to_upsert = list(zip(ids, embeddings, metadata))\n",
    "    \n",
    "    _ = index.upsert(vectors= vectors_to_upsert)\n",
    "    \n",
    "    index.describe_index_stats()"
   ]
  },
  {
   "cell_type": "markdown",
   "metadata": {},
   "source": [
    "### Query Information using NER"
   ]
  },
  {
   "cell_type": "code",
   "execution_count": null,
   "metadata": {},
   "outputs": [],
   "source": []
  }
 ],
 "metadata": {
  "kernelspec": {
   "display_name": "Python 3",
   "language": "python",
   "name": "python3"
  },
  "language_info": {
   "codemirror_mode": {
    "name": "ipython",
    "version": 3
   },
   "file_extension": ".py",
   "mimetype": "text/x-python",
   "name": "python",
   "nbconvert_exporter": "python",
   "pygments_lexer": "ipython3",
   "version": "3.12.6"
  }
 },
 "nbformat": 4,
 "nbformat_minor": 2
}
